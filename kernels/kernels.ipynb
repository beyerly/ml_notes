{
 "cells": [
  {
   "cell_type": "code",
   "execution_count": 1,
   "metadata": {},
   "outputs": [],
   "source": [
    "import numpy as np\n",
    "import pickle\n",
    "import gzip\n",
    "import random\n",
    "import matplotlib.pyplot as plt"
   ]
  },
  {
   "cell_type": "code",
   "execution_count": 2,
   "metadata": {},
   "outputs": [],
   "source": [
    "# Convolutions\n",
    "\n",
    "class conv():\n",
    "    def __init__(self, H, W, C, N, K, R, S, stride):\n",
    "        self.H = H\n",
    "        self.W = W\n",
    "        self.C = C\n",
    "        self.N = N\n",
    "        self.P = 0\n",
    "        self.Q = 0\n",
    "        self.K = K\n",
    "        self.R = R\n",
    "        self.S = S\n",
    "        self.stride = stride"
   ]
  },
  {
   "cell_type": "code",
   "execution_count": 11,
   "metadata": {},
   "outputs": [],
   "source": [
    "# conv(hight, width, input channels, minibatch, output channels, filter height, filter width, stride)\n",
    "c = conv (32, 32, 8, 16, 64, 2, 2, 2)"
   ]
  },
  {
   "cell_type": "code",
   "execution_count": 15,
   "metadata": {},
   "outputs": [],
   "source": [
    "ifm= np.random.rand(c.H, c.W, c.C, c.N)\n",
    "filter = np.random.rand(c.R, c.S, c.C, c.K)"
   ]
  },
  {
   "cell_type": "code",
   "execution_count": 16,
   "metadata": {},
   "outputs": [
    {
     "data": {
      "text/plain": [
       "(32, 32, 8, 16)"
      ]
     },
     "execution_count": 16,
     "metadata": {},
     "output_type": "execute_result"
    }
   ],
   "source": [
    "np.shape(ifm)"
   ]
  },
  {
   "cell_type": "code",
   "execution_count": 17,
   "metadata": {},
   "outputs": [
    {
     "data": {
      "text/plain": [
       "(2, 2, 8, 64)"
      ]
     },
     "execution_count": 17,
     "metadata": {},
     "output_type": "execute_result"
    }
   ],
   "source": [
    "np.shape(filter)"
   ]
  },
  {
   "cell_type": "code",
   "execution_count": 55,
   "metadata": {},
   "outputs": [],
   "source": [
    "def fprop_conv(c, ifm, filter):\n",
    "    P = int(c.H/c.stride)\n",
    "    Q = int(c.W/c.stride)\n",
    "    ofm = np.empty([P, Q, c.K, c.N])\n",
    "    for p in range(P):\n",
    "        for q in range(Q):\n",
    "            # ifm[p*self.stride:p*self.stride + r, q*self.stride:q*self.stride + s] = CxN\n",
    "            # filter[0:r, 0:s] = CxK\n",
    "            ofm[p, q] = np.dot(filter[0:c.R, 0:c.S].reshape(c.R*c.S*c.C, c.K).T, ifm[p*c.stride:p*c.stride + c.R, q*c.stride:q*c.stride + c.S].reshape(c.R*c.S*c.C, c.N))\n",
    "    return ofm"
   ]
  },
  {
   "cell_type": "code",
   "execution_count": 56,
   "metadata": {},
   "outputs": [
    {
     "data": {
      "text/plain": [
       "(16, 16, 64, 16)"
      ]
     },
     "execution_count": 56,
     "metadata": {},
     "output_type": "execute_result"
    }
   ],
   "source": [
    "ofm = fprop_conv(c,ifm, filter)\n",
    "np.shape(ofm)"
   ]
  },
  {
   "cell_type": "code",
   "execution_count": 83,
   "metadata": {},
   "outputs": [
    {
     "name": "stdout",
     "output_type": "stream",
     "text": [
      "(10, 16)\n"
     ]
    }
   ],
   "source": [
    "# softmax\n",
    "\n",
    "def softmax(x):\n",
    "    exps = np.exp(x)\n",
    "    sum = np.sum(exps)\n",
    "    return np.exp(x)/sum\n",
    "\n",
    "c = conv (32, 32, 8, 16, 64, 2, 2, 2)\n",
    "ofm = np.random.rand(c.H, c.W, c.C, c.N)\n",
    "\n",
    "\n",
    "# fully connected layer: reduce channels and all pixels to  L classes\n",
    "L = 10\n",
    "fc_ofm = np.empty([L,c.N])\n",
    "filter = np.random.rand(L,c.H*c.W*c.C)\n",
    "ofm = ofm.reshape([c.H*c.W*c.C, c.N])\n",
    "\n",
    "fc_ofm = np.dot(filter, ofm)\n",
    "fc_ofm = fc_ofm/2000\n",
    "\n",
    "print(np.shape(fc_ofm))\n"
   ]
  },
  {
   "cell_type": "code",
   "execution_count": 84,
   "metadata": {},
   "outputs": [
    {
     "name": "stdout",
     "output_type": "stream",
     "text": [
      "(16, 10)\n"
     ]
    }
   ],
   "source": [
    "sm = np.empty([c.N, L])\n",
    "\n",
    "for i, n in enumerate(fc_ofm.T):\n",
    "    sm[i] = np.sum(softmax(n))\n",
    "    \n",
    "print(np.shape(sm))"
   ]
  },
  {
   "cell_type": "code",
   "execution_count": null,
   "metadata": {},
   "outputs": [],
   "source": []
  }
 ],
 "metadata": {
  "kernelspec": {
   "display_name": "Python 3",
   "language": "python",
   "name": "python3"
  },
  "language_info": {
   "codemirror_mode": {
    "name": "ipython",
    "version": 3
   },
   "file_extension": ".py",
   "mimetype": "text/x-python",
   "name": "python",
   "nbconvert_exporter": "python",
   "pygments_lexer": "ipython3",
   "version": "3.6.9"
  }
 },
 "nbformat": 4,
 "nbformat_minor": 2
}
