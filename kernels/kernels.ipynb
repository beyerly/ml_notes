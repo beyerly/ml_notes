{
 "cells": [
  {
   "cell_type": "code",
   "execution_count": 122,
   "metadata": {},
   "outputs": [],
   "source": [
    "import numpy as np\n",
    "import pickle\n",
    "import gzip\n",
    "import random\n",
    "import matplotlib.pyplot as plt\n",
    "import math"
   ]
  },
  {
   "cell_type": "markdown",
   "metadata": {},
   "source": [
    "# Convolutions"
   ]
  },
  {
   "cell_type": "code",
   "execution_count": 119,
   "metadata": {},
   "outputs": [],
   "source": [
    "class conv():\n",
    "    def __init__(self, H, W, C, N, K, R, S, stride):\n",
    "        self.H = H\n",
    "        self.W = W\n",
    "        self.C = C\n",
    "        self.N = N\n",
    "        self.P = 0\n",
    "        self.Q = 0\n",
    "        self.K = K\n",
    "        self.R = R\n",
    "        self.S = S\n",
    "        self.stride = stride"
   ]
  },
  {
   "cell_type": "code",
   "execution_count": 120,
   "metadata": {},
   "outputs": [],
   "source": [
    "# conv(hight, width, input channels, minibatch, output channels, filter height, filter width, stride)\n",
    "c = conv (32, 32, 8, 16, 64, 2, 2, 2)"
   ]
  },
  {
   "cell_type": "code",
   "execution_count": 121,
   "metadata": {},
   "outputs": [],
   "source": [
    "ifm= np.random.rand(c.H, c.W, c.C, c.N)\n",
    "filter = np.random.rand(c.R, c.S, c.C, c.K)"
   ]
  },
  {
   "cell_type": "code",
   "execution_count": 122,
   "metadata": {},
   "outputs": [
    {
     "data": {
      "text/plain": [
       "(32, 32, 8, 16)"
      ]
     },
     "execution_count": 122,
     "metadata": {},
     "output_type": "execute_result"
    }
   ],
   "source": [
    "np.shape(ifm)"
   ]
  },
  {
   "cell_type": "code",
   "execution_count": 123,
   "metadata": {},
   "outputs": [
    {
     "data": {
      "text/plain": [
       "(2, 2, 8, 64)"
      ]
     },
     "execution_count": 123,
     "metadata": {},
     "output_type": "execute_result"
    }
   ],
   "source": [
    "np.shape(filter)"
   ]
  },
  {
   "cell_type": "code",
   "execution_count": 124,
   "metadata": {},
   "outputs": [],
   "source": [
    "def fprop_conv(c, ifm, filter):\n",
    "    P = int(c.H/c.stride)\n",
    "    Q = int(c.W/c.stride)\n",
    "    ofm = np.empty([P, Q, c.K, c.N])\n",
    "    for p in range(P):\n",
    "        for q in range(Q):\n",
    "            # ifm[p*self.stride:p*self.stride + r, q*self.stride:q*self.stride + s] = CxN\n",
    "            # filter[0:r, 0:s] = CxK\n",
    "            ofm[p, q] = np.dot(filter[0:c.R, 0:c.S].reshape(c.R*c.S*c.C, c.K).T, ifm[p*c.stride:p*c.stride + c.R, q*c.stride:q*c.stride + c.S].reshape(c.R*c.S*c.C, c.N))\n",
    "    return ofm"
   ]
  },
  {
   "cell_type": "code",
   "execution_count": 125,
   "metadata": {},
   "outputs": [
    {
     "data": {
      "text/plain": [
       "(16, 16, 64, 16)"
      ]
     },
     "execution_count": 125,
     "metadata": {},
     "output_type": "execute_result"
    }
   ],
   "source": [
    "ofm = fprop_conv(c,ifm, filter)\n",
    "np.shape(ofm)"
   ]
  },
  {
   "cell_type": "markdown",
   "metadata": {},
   "source": [
    "## Group convolutions"
   ]
  },
  {
   "cell_type": "code",
   "execution_count": 146,
   "metadata": {},
   "outputs": [
    {
     "name": "stdout",
     "output_type": "stream",
     "text": [
      "(16, 16, 16, 64)\n"
     ]
    }
   ],
   "source": [
    "# conv(hight, width, input channels, minibatch, output channels, filter height, filter width, stride)\n",
    "c = conv (32, 32, 8, 16, 64, 2, 2, 2)\n",
    "\n",
    "groups = 4\n",
    "\n",
    "cGroup = int(c.C/groups)\n",
    "kGroup = int(c.K/groups)\n",
    "# conv(hight, width, input channels, minibatch, output channels, filter height, filter width, stride)\n",
    "cGroupC = conv (32, 32, cGroup, 16, kGroup, 2, 2, 2)\n",
    "\n",
    "ifm= np.random.rand(c.H, c.W, c.C, c.N)\n",
    "filter = np.random.rand(c.R, c.S, c.C, c.K)\n",
    "\n",
    "ofm = fprop_conv(cGroupC, np.take(ifm, [x for x in range(0,cGroup)], axis=2), np.take(np.take(filter, [x for x in range(0,cGroup)], axis=2), [x for x in range(0,kGroup)], axis = 3))\n",
    "for t in range(1,groups):\n",
    "    ofm = np.concatenate((ofm, fprop_conv(cGroupC, np.take(ifm, [x for x in range(t*cGroup,(t+1)*cGroup)], axis=2), np.take(np.take(filter, [x for x in range(t*cGroup,(t+1)*cGroup)], axis=2), [x for x in range(t*kGroup,(t+1)*kGroup)], axis = 3))),axis=3)\n",
    "\n",
    "#fprop_conv(cGroupC, np.take(ifm, [x for x in range(t*cGroup,(t+1)*cGroup)], axis=2), np.take(np.take(filter, [x for x in range(t*cGroup,(t+1)*cGroup)], axis=2), [x for x in range(t*kGroup,(t+1)*kGroup)], axis = 3))    \n",
    "#fprop_conv(cGroupC, np.take(ifm, [x for x in range(t*cGroup,(t+1)*cGroup)], axis=2), np.take(np.take(filter, [x for x in range(t*cGroup,(t+1)*cGroup)], axis=2), [x for x in range(t*kGroup,(t+1)*kGroup)], axis = 3))\n",
    "print(np.shape(ofm))\n"
   ]
  },
  {
   "cell_type": "markdown",
   "metadata": {},
   "source": [
    "## Dilated convolution"
   ]
  },
  {
   "cell_type": "code",
   "execution_count": 86,
   "metadata": {},
   "outputs": [],
   "source": [
    "class conv_dilated():\n",
    "    def __init__(self, H, W, C, N, K, R, S, stride, dilation):\n",
    "        self.H = H\n",
    "        self.W = W\n",
    "        self.C = C\n",
    "        self.N = N\n",
    "        self.P = 0\n",
    "        self.Q = 0\n",
    "        self.K = K\n",
    "        self.R = R\n",
    "        self.S = S\n",
    "        self.stride = stride\n",
    "        self.dilation = dilation\n",
    "\n",
    "        # conv(hight, width, input channels, minibatch, output channels, filter height, filter width, stride, dilation)\n",
    "c = conv_dilated (32, 32, 8, 16, 64, 2, 2, 1, 2)\n",
    "\n",
    "\n",
    "def fprop_conv_dilated(c, ifm, filter):\n",
    "    P = int(c.H/c.stride)\n",
    "    Q = int(c.W/c.stride)\n",
    "    sfm = np.empty([P, Q, c.R, c.S, c.C, c.N])\n",
    "    ofm = np.empty([P, Q, c.K, c.N])\n",
    "    \n",
    "    # slice\n",
    "    for p in range(P):\n",
    "        for q in range(Q):\n",
    "            for r in range(c.R):\n",
    "                for s in range(c.S):\n",
    "#                    print(p,q,r,s)\n",
    "#                    print(p*c.stride + r*c.dilation, q*c.stride + s*c.dilation)\n",
    "                    sfm[p,q,r,s] = ifm[p*c.stride + r*c.dilation, q*c.stride + s*c.dilation]\n",
    "    sfm=sfm.reshape(P, Q, c.R*c.S*c.C, c.N)\n",
    "    filter=filter.reshape(c.R*c.S*c.C, c.K)\n",
    "    #print(np.shape(sfm))\n",
    "    for p in range(P):\n",
    "        for q in range(Q):\n",
    "            # ifm[p,q] = RSCxN\n",
    "            # filter = RSCxK\n",
    "            ofm[p, q] = np.dot(filter.T, sfm[p,q])\n",
    "    return ofm"
   ]
  },
  {
   "cell_type": "code",
   "execution_count": 87,
   "metadata": {
    "scrolled": false
   },
   "outputs": [
    {
     "name": "stdout",
     "output_type": "stream",
     "text": [
      "(32, 32, 64, 16)\n"
     ]
    }
   ],
   "source": [
    "ifm= np.random.rand(c.H+3, c.W+3, c.C, c.N)\n",
    "filter = np.random.rand(c.R, c.S, c.C, c.K)\n",
    "ofm = fprop_conv_dilated(c, ifm, filter)\n",
    "print(np.shape(ofm))"
   ]
  },
  {
   "cell_type": "markdown",
   "metadata": {},
   "source": [
    "## Depthwise separable convolutions"
   ]
  },
  {
   "cell_type": "code",
   "execution_count": 150,
   "metadata": {},
   "outputs": [
    {
     "name": "stdout",
     "output_type": "stream",
     "text": [
      "(16, 16, 8, 16)\n",
      "(16, 16, 64, 16)\n"
     ]
    }
   ],
   "source": [
    "# conv(hight, width, input channels, minibatch, output channels, filter height, filter width, stride)\n",
    "c = conv (32, 32, 8, 16, 64, 2, 2, 2)\n",
    "\n",
    "ifm= np.random.rand(c.H, c.W, c.C, c.N)\n",
    "# step 1, apply single filter per input channel\n",
    "filter_s1 = np.random.rand(c.R, c.S, c.C, 1)\n",
    "# 1x1 convolution scaling up to K output channels\n",
    "filter_s2 = np.random.rand(1, 1, c.C, c.K)\n",
    "\n",
    "cDSC_s1 = conv (32, 32, 1, 16, 1, 2, 2, 2)\n",
    "cDSC_s2 = conv (16, 16, c.C, 16, c.K, 1, 1, 1)\n",
    "\n",
    "# step 1\n",
    "\n",
    "ofm = fprop_conv(cDSC_s1, np.take(ifm, [0], axis=2), np.take(filter_s1, [0], axis=2))\n",
    "for t in range(1,c.C):\n",
    "    ofm = np.concatenate((ofm,fprop_conv(cDSC_s1, np.take(ifm, [t], axis=2), np.take(filter_s1, [t], axis=2))),axis=2)\n",
    "\n",
    "print(np.shape(ofm))\n",
    "\n",
    "# step 2\n",
    "ofm = fprop_conv(cDSC_s2, ofm, filter_s2)\n",
    "print(np.shape(ofm))\n",
    "\n"
   ]
  },
  {
   "cell_type": "markdown",
   "metadata": {},
   "source": [
    "## GEMM parallelization"
   ]
  },
  {
   "cell_type": "code",
   "execution_count": 107,
   "metadata": {},
   "outputs": [],
   "source": [
    "tpus = [x for x in range(4)]\n",
    "n = len(tpus)"
   ]
  },
  {
   "cell_type": "markdown",
   "metadata": {},
   "source": [
    "### split on K"
   ]
  },
  {
   "cell_type": "code",
   "execution_count": 108,
   "metadata": {},
   "outputs": [
    {
     "name": "stdout",
     "output_type": "stream",
     "text": [
      "(16, 16, 64, 16)\n"
     ]
    }
   ],
   "source": [
    "# conv(hight, width, input channels, minibatch, output channels, filter height, filter width, stride)\n",
    "c = conv (32, 32, 8, 16, 64, 2, 2, 2)\n",
    "ifm= np.random.rand(c.H, c.W, c.C, c.N)\n",
    "filter = np.random.rand(c.R, c.S, c.C, c.K)\n",
    "Kslice = int(c.K/n)\n",
    "cKslice = conv (32, 32, 8, 16, Kslice, 2, 2, 2)\n",
    "\n",
    "# filter = RSCxK -> (RSC)xK -> kx(RSC) -> K/n x(RSC) -> (RSC)xk/n -> RSCxK/n \n",
    "# note this is the same as np.take(filter,[0:K/n], axis = 3)\n",
    "ofm = fprop_conv(cKslice, ifm, filter.reshape([c.R*c.S*c.C,c.K]).transpose()[0:Kslice].transpose().reshape([c.R,c.S,c.C,Kslice]))\n",
    "for t in range(1,n):\n",
    "    nofm = fprop_conv(cKslice, ifm, filter.reshape([c.R*c.S*c.C,c.K]).transpose()[t*Kslice:Kslice + t*Kslice].transpose().reshape([c.R,c.S,c.C,Kslice]))\n",
    "    ofm = np.concatenate((ofm,nofm), axis=2)\n",
    "\n",
    "print(np.shape(ofm))"
   ]
  },
  {
   "cell_type": "markdown",
   "metadata": {},
   "source": [
    "### split on N"
   ]
  },
  {
   "cell_type": "code",
   "execution_count": 109,
   "metadata": {},
   "outputs": [
    {
     "name": "stdout",
     "output_type": "stream",
     "text": [
      "(16, 16, 64, 16)\n"
     ]
    }
   ],
   "source": [
    "# conv(hight, width, input channels, minibatch, output channels, filter height, filter width, stride)\n",
    "c = conv (32, 32, 8, 16, 64, 2, 2, 2)\n",
    "ifm= np.random.rand(c.H, c.W, c.C, c.N)\n",
    "filter = np.random.rand(c.R, c.S, c.C, c.K)\n",
    "Nslice = int(c.N/n)\n",
    "cNslice = conv (32, 32, 8, Nslice, 64, 2, 2, 2)\n",
    "\n",
    "# ifm = HWCxN -> (HWC)xN -> Nx(HWC) -> N/n x(HWC) -> (HWC)xN/n -> HWCxN/n \n",
    "\n",
    "ofm = fprop_conv(cNslice, ifm.reshape([c.H*c.W*c.C,c.N]).transpose()[0:Nslice].transpose().reshape([c.H,c.W,c.C,Nslice]), filter)\n",
    "for t in range(1,n):\n",
    "    nofm = fprop_conv(cNslice, ifm.reshape([c.H*c.W*c.C,c.N]).transpose()[t*Nslice:Nslice + t*Nslice].transpose().reshape([c.H,c.W,c.C,Nslice]), filter)\n",
    "    ofm = np.concatenate((ofm,nofm), axis=3)\n",
    "\n",
    "print(np.shape(ofm))"
   ]
  },
  {
   "cell_type": "markdown",
   "metadata": {},
   "source": [
    "### split on C"
   ]
  },
  {
   "cell_type": "code",
   "execution_count": 110,
   "metadata": {
    "scrolled": true
   },
   "outputs": [
    {
     "name": "stdout",
     "output_type": "stream",
     "text": [
      "(16, 16, 64, 16)\n"
     ]
    }
   ],
   "source": [
    "# conv(hight, width, input channels, minibatch, output channels, filter height, filter width, stride)\n",
    "c = conv (32, 32, 8, 16, 64, 2, 2, 2)\n",
    "ifm= np.random.rand(c.H, c.W, c.C, c.N)\n",
    "filter = np.random.rand(c.R, c.S, c.C, c.K)\n",
    "Cslice = int(c.C/n)\n",
    "cNslice = conv (32, 32, Cslice, 16, 64, 2, 2, 2)\n",
    "\n",
    "# use np.take() this time to simplify:\n",
    "\n",
    "ofm = fprop_conv(cNslice, np.take(ifm, [x for x in range(0,Cslice)], axis=2), np.take(filter, [x for x in range(0,Cslice)], axis=2))\n",
    "for t in range(1,n):\n",
    "    ofm = np.add(ofm, fprop_conv(cNslice, np.take(ifm, [x for x in range(t*Cslice, (t+1)*Cslice)], axis=2), np.take(filter, [x for x in range(t*Cslice, (t+1)*Cslice)], axis=2)))\n",
    "\n",
    "print(np.shape(ofm))"
   ]
  },
  {
   "cell_type": "markdown",
   "metadata": {},
   "source": [
    "# softmax"
   ]
  },
  {
   "cell_type": "code",
   "execution_count": 111,
   "metadata": {},
   "outputs": [
    {
     "name": "stdout",
     "output_type": "stream",
     "text": [
      "(10, 16)\n"
     ]
    }
   ],
   "source": [
    "\n",
    "\n",
    "def softmax(x):\n",
    "    exps = np.exp(x)\n",
    "    sum = np.sum(exps)\n",
    "    return np.exp(x)/sum\n",
    "\n",
    "c = conv (32, 32, 8, 16, 64, 2, 2, 2)\n",
    "ofm = np.random.rand(c.H, c.W, c.C, c.N)\n",
    "\n",
    "\n",
    "# fully connected layer: reduce channels and all pixels to  L classes\n",
    "L = 10\n",
    "fc_ofm = np.empty([L,c.N])\n",
    "filter = np.random.rand(L,c.H*c.W*c.C)\n",
    "ofm = ofm.reshape([c.H*c.W*c.C, c.N])\n",
    "\n",
    "fc_ofm = np.dot(filter, ofm)\n",
    "fc_ofm = fc_ofm/2000\n",
    "\n",
    "print(np.shape(fc_ofm))\n"
   ]
  },
  {
   "cell_type": "code",
   "execution_count": 112,
   "metadata": {},
   "outputs": [
    {
     "name": "stdout",
     "output_type": "stream",
     "text": [
      "(16, 10)\n"
     ]
    }
   ],
   "source": [
    "sm = np.empty([c.N, L])\n",
    "\n",
    "for i, n in enumerate(fc_ofm.T):\n",
    "    sm[i] = np.sum(softmax(n))\n",
    "    \n",
    "print(np.shape(sm))"
   ]
  },
  {
   "cell_type": "markdown",
   "metadata": {},
   "source": [
    "# Normalization\n",
    "https://nealjean.com/ml/neural-network-normalization/"
   ]
  },
  {
   "cell_type": "markdown",
   "metadata": {},
   "source": [
    "## batchnorm"
   ]
  },
  {
   "cell_type": "code",
   "execution_count": 89,
   "metadata": {
    "scrolled": true
   },
   "outputs": [
    {
     "name": "stdout",
     "output_type": "stream",
     "text": [
      "(32, 32, 8)\n"
     ]
    }
   ],
   "source": [
    "\n",
    "ofm = np.random.rand(c.H, c.W, c.C, c.N)\n",
    "mean = np.empty([c.H, c.W, c.C])\n",
    "for h in range(c.H):\n",
    "    for w in range(c.W):\n",
    "        for ch in range(c.C):\n",
    "            mean[h,w,ch] = ofm[h,w,ch].mean()\n",
    "print(np.shape(mean))"
   ]
  },
  {
   "cell_type": "code",
   "execution_count": 90,
   "metadata": {},
   "outputs": [
    {
     "name": "stdout",
     "output_type": "stream",
     "text": [
      "(32, 32, 8)\n"
     ]
    }
   ],
   "source": [
    "variance = np.empty([c.H, c.W, c.C])\n",
    "for h in range(c.H):\n",
    "    for w in range(c.W):\n",
    "        for ch in range(c.C):\n",
    "            variance[h,w,ch] = np.square(ofm[h,w,ch] - mean[h,w,ch]).mean()\n",
    "print(np.shape(variance))"
   ]
  },
  {
   "cell_type": "code",
   "execution_count": 91,
   "metadata": {},
   "outputs": [
    {
     "name": "stdout",
     "output_type": "stream",
     "text": [
      "(32, 32, 8, 16)\n"
     ]
    }
   ],
   "source": [
    "bn_ofm = np.random.rand(c.H, c.W, c.C, c.N)\n",
    "gamma = 1\n",
    "beta = 1\n",
    "epsilon = 0\n",
    "for h in range(c.H):\n",
    "    for w in range(c.W):\n",
    "        for ch in range(c.C):\n",
    "            bn_ofm[h,w,ch] = gamma*np.divide(ofm[h,w,ch] - mean[h,w,ch], np.sqrt(variance[h,w,ch]-epsilon)) + beta\n",
    "print(np.shape(bn_ofm))\n",
    "\n"
   ]
  },
  {
   "cell_type": "code",
   "execution_count": 92,
   "metadata": {},
   "outputs": [
    {
     "name": "stdout",
     "output_type": "stream",
     "text": [
      "(32, 32, 8)\n",
      "(32, 32, 8)\n"
     ]
    }
   ],
   "source": [
    "# same thing but now using scale/shift implementation\n",
    "scale = np.divide(gamma, np.sqrt(variance-epsilon))\n",
    "shift = -1*mean + (beta/gamma)*np.sqrt(variance-epsilon)\n",
    "\n",
    "print(np.shape(scale))\n",
    "print(np.shape(shift))\n"
   ]
  },
  {
   "cell_type": "code",
   "execution_count": 96,
   "metadata": {},
   "outputs": [
    {
     "name": "stdout",
     "output_type": "stream",
     "text": [
      "(8192, 1)\n",
      "(8192, 1)\n",
      "(32, 32, 8, 16)\n"
     ]
    }
   ],
   "source": [
    "scale=scale.reshape([c.H*c.W*c.C,1])\n",
    "shift=shift.reshape([c.H*c.W*c.C,1])\n",
    "ofm=ofm.reshape([c.H*c.W*c.C, c.N])\n",
    "print(np.shape(scale))\n",
    "print(np.shape(shift))\n",
    "bnss_ofm = np.multiply(np.add(ofm, shift), scale)\n",
    "bnss_ofm=bnss_ofm.reshape([c.H,c.W,c.C, c.N])\n",
    "print(np.shape(bnss_ofm))\n"
   ]
  },
  {
   "cell_type": "markdown",
   "metadata": {},
   "source": [
    "## Layernorm"
   ]
  },
  {
   "cell_type": "code",
   "execution_count": 108,
   "metadata": {
    "scrolled": true
   },
   "outputs": [
    {
     "name": "stdout",
     "output_type": "stream",
     "text": [
      "(16, 32, 32)\n"
     ]
    }
   ],
   "source": [
    "#dimshuffle\n",
    "ofm = np.random.rand(c.H, c.W, c.C, c.N)\n",
    "ofm = ofm.reshape([c.H*c.W*c.C, c.N])\n",
    "ofm = ofm.transpose()  # NxHWC\n",
    "ofm = ofm.reshape([c.N, c.H, c.W, c.C])\n",
    "mean = np.empty([c.N, c.H, c.W])\n",
    "\n",
    "for n in range(c.N):\n",
    "    for h in range(c.H):\n",
    "        for w in range(c.W):\n",
    "            mean[n,h,w] = ofm[n,h,w].mean()\n",
    "print(np.shape(mean))"
   ]
  },
  {
   "cell_type": "code",
   "execution_count": 109,
   "metadata": {},
   "outputs": [
    {
     "name": "stdout",
     "output_type": "stream",
     "text": [
      "(16, 32, 32)\n"
     ]
    }
   ],
   "source": [
    "variance = np.empty([c.N, c.H, c.W])\n",
    "for n in range(c.N):\n",
    "    for h in range(c.H):\n",
    "        for w in range(c.W):\n",
    "            variance[n,h,w] = np.square(ofm[n,h,w] - mean[n,h,w]).mean()\n",
    "print(np.shape(variance))"
   ]
  },
  {
   "cell_type": "code",
   "execution_count": 110,
   "metadata": {},
   "outputs": [
    {
     "name": "stdout",
     "output_type": "stream",
     "text": [
      "(32, 32, 8, 16)\n"
     ]
    }
   ],
   "source": [
    "bn_ofm = np.random.rand(c.N, c.H, c.W, c.C)\n",
    "gamma = 1\n",
    "beta = 1\n",
    "epsilon = 0\n",
    "for n in range(c.N):\n",
    "    for h in range(c.H):\n",
    "        for w in range(c.W):\n",
    "            bn_ofm[n,h,w] = gamma*np.divide(ofm[n,h,w] - mean[n,h,w], np.sqrt(variance[n,h,w]-epsilon)) + beta\n",
    "\n",
    "            \n",
    "#dimshuffle back to HWCxN            \n",
    "bn_ofm= bn_ofm.reshape([c.N, c.H*c.W*c.C])\n",
    "bn_ofm = bn_ofm.transpose()  # HWCxN\n",
    "bn_ofm = bn_ofm.reshape([c.H, c.W, c.C, c.N])\n",
    "print(np.shape(bn_ofm))\n",
    "\n"
   ]
  },
  {
   "cell_type": "code",
   "execution_count": null,
   "metadata": {},
   "outputs": [],
   "source": []
  },
  {
   "cell_type": "markdown",
   "metadata": {},
   "source": [
    "# Pooling"
   ]
  },
  {
   "cell_type": "code",
   "execution_count": 4,
   "metadata": {},
   "outputs": [],
   "source": [
    "class pool():\n",
    "    def __init__(self, H, W, C, N, R, S, stride):\n",
    "        self.H = H\n",
    "        self.W = W\n",
    "        self.C = C\n",
    "        self.N = N\n",
    "        self.P = 0\n",
    "        self.Q = 0\n",
    "        self.R = R\n",
    "        self.S = S\n",
    "        self.stride = stride"
   ]
  },
  {
   "cell_type": "code",
   "execution_count": 59,
   "metadata": {},
   "outputs": [],
   "source": [
    "def fprop_pool(c, ifm):\n",
    "    P = int(c.H/c.stride)\n",
    "    Q = int(c.W/c.stride)\n",
    "    ofm = np.empty([P, Q, c.C, c.N])\n",
    "    for p in range(P):\n",
    "        for q in range(Q):\n",
    "            # ifm[p*self.stride:p*self.stride + r, q*self.stride:q*self.stride + s] = CxN\n",
    "            # filter[0:r, 0:s] = CxK\n",
    "            ofm[p, q] = np.max(ifm[p*c.stride:p*c.stride + c.R, q*c.stride:q*c.stride + c.S].reshape(c.R*c.S, c.C, c.N),axis=0)\n",
    "            #.reshape(c.R*c.S*c.C, c.N)\n",
    "    return ofm"
   ]
  },
  {
   "cell_type": "code",
   "execution_count": 62,
   "metadata": {},
   "outputs": [
    {
     "data": {
      "text/plain": [
       "(16, 16, 8, 16)"
      ]
     },
     "execution_count": 62,
     "metadata": {},
     "output_type": "execute_result"
    }
   ],
   "source": [
    "# pool(hight, width, input channels, minibatch, pool height, pool width, stride)\n",
    "c = pool (32, 32, 8, 16, 2, 2, 2)\n",
    "ifm= np.random.rand(c.H, c.W, c.C, c.N)\n",
    "\n",
    "ofm = fprop_pool(c,ifm)\n",
    "np.shape(ofm)\n"
   ]
  },
  {
   "cell_type": "code",
   "execution_count": 111,
   "metadata": {},
   "outputs": [],
   "source": [
    "a = [x for x in range(100)]"
   ]
  },
  {
   "cell_type": "code",
   "execution_count": 114,
   "metadata": {},
   "outputs": [
    {
     "data": {
      "image/png": "[encoded data removed]",
      "text/plain": [
       "<Figure size 432x288 with 2 Axes>"
      ]
     },
     "metadata": {
      "needs_background": "light"
     },
     "output_type": "display_data"
    }
   ],
   "source": [
    "def f(t):\n",
    "    return np.exp(-t) * np.cos(2*np.pi*t)\n",
    "\n",
    "t1 = np.arange(0.0, 5.0, 0.1)\n",
    "t2 = np.arange(0.0, 5.0, 0.02)\n",
    "\n",
    "plt.figure()\n",
    "plt.subplot(211)\n",
    "plt.plot(t1, f(t1), 'bo', t2, f(t2), 'k')\n",
    "\n",
    "plt.subplot(212)\n",
    "plt.plot(t2, np.cos(2*np.pi*t2), 'r--')\n",
    "plt.show()"
   ]
  },
  {
   "cell_type": "code",
   "execution_count": 125,
   "metadata": {},
   "outputs": [
    {
     "name": "stderr",
     "output_type": "stream",
     "text": [
      "/home/rdegruij/anaconda3/envs/conda_py3_tf/lib/python3.6/site-packages/ipykernel_launcher.py:2: RuntimeWarning: divide by zero encountered in log\n",
      "  \n"
     ]
    },
    {
     "data": {
      "image/png": "[encoded data removed]",
      "text/plain": [
       "<Figure size 432x288 with 1 Axes>"
      ]
     },
     "metadata": {
      "needs_background": "light"
     },
     "output_type": "display_data"
    }
   ],
   "source": [
    "def f(t):\n",
    "    return np.log(t)\n",
    "\n",
    "t1 = np.arange(0.0, 5.0, 0.1)\n",
    "\n",
    "\n",
    "\n",
    "plt.figure()\n",
    "plt.plot(t1, f(t1))\n",
    "\n",
    "plt.show()"
   ]
  },
  {
   "cell_type": "code",
   "execution_count": 259,
   "metadata": {},
   "outputs": [],
   "source": [
    "p = [[0,0,0,1,0],\n",
    "     [0,1,0,1,0],\n",
    "     [0,1,0,1,0],\n",
    "     [0,1,0,1,0],\n",
    "     [0,1,0,0,0]]"
   ]
  },
  {
   "cell_type": "code",
   "execution_count": 263,
   "metadata": {},
   "outputs": [],
   "source": [
    "\n",
    "\n",
    "class shortestPath():\n",
    "    def __init__(self):\n",
    "        self.visited = set()\n",
    "        self.cost=[[10 for x in range(5)] for x in range(5)]\n",
    "        \n",
    "        \n",
    "        \n",
    "        \n",
    "    def run(self, p, i, j, d):\n",
    "        if (i,j) not in self.visited:\n",
    "            self.visited.add((i,j))\n",
    "            self.cost[i][j] = d\n",
    "            if i<len(p)-1:\n",
    "                if p[i+1][j] != 1:\n",
    "                    self.run(p, i+1, j,d+1)\n",
    "                if j<len(p[0])-1:\n",
    "                    if p[i+1][j+1] != 1:\n",
    "                        self.run(p, i+1, j+1,d+1)\n",
    "            if j<len(p[0])-1:\n",
    "                if p[i][j+1] != 1:\n",
    "                    self.run(p, i, j+1,d+1)\n",
    "        else:\n",
    "            self.cost[i][j] = min(d,self.cost[i][j])\n",
    "        \n",
    "\n",
    "    def backtrack(self):\n",
    "        for q in self.cost:\n",
    "            print(q)\n",
    "        path = []\n",
    "        i,j=(len(self.cost)-1,len(self.cost[0])-1)\n",
    "        while i>0 or j>0:\n",
    "            if self.cost[i-1][j] < self.cost[i-1][j-1] and self.cost[i-1][j] < self.cost[i][j-1]:\n",
    "                i=i-1\n",
    "                path.append((i,j))\n",
    "            elif self.cost[i-1][j-1] < self.cost[i][j-1] and self.cost[i-1][j-1] < self.cost[i-1][j]:\n",
    "                i=i-1\n",
    "                j=j-1\n",
    "                path.append((i,j))\n",
    "            else:\n",
    "                j=j-1\n",
    "                path.append((i,j))\n",
    "        print (path)\n",
    "        "
   ]
  },
  {
   "cell_type": "code",
   "execution_count": 264,
   "metadata": {},
   "outputs": [],
   "source": [
    "sp = shortestPath()"
   ]
  },
  {
   "cell_type": "code",
   "execution_count": 265,
   "metadata": {},
   "outputs": [
    {
     "name": "stdout",
     "output_type": "stream",
     "text": [
      "[0, 1, 2, 10, 10]\n",
      "[1, 10, 2, 10, 10]\n",
      "[2, 10, 3, 10, 10]\n",
      "[3, 10, 4, 10, 10]\n",
      "[4, 10, 5, 5, 7]\n",
      "[(4, 3), (3, 2), (2, 2), (1, 2), (0, 1), (0, 0)]\n"
     ]
    }
   ],
   "source": [
    "\n",
    "sp.run(p, 0, 0, 0)\n",
    "sp.backtrack()"
   ]
  },
  {
   "cell_type": "code",
   "execution_count": null,
   "metadata": {},
   "outputs": [],
   "source": []
  }
 ],
 "metadata": {
  "kernelspec": {
   "display_name": "Python 3",
   "language": "python",
   "name": "python3"
  },
  "language_info": {
   "codemirror_mode": {
    "name": "ipython",
    "version": 3
   },
   "file_extension": ".py",
   "mimetype": "text/x-python",
   "name": "python",
   "nbconvert_exporter": "python",
   "pygments_lexer": "ipython3",
   "version": "3.6.9"
  }
 },
 "nbformat": 4,
 "nbformat_minor": 2
}
