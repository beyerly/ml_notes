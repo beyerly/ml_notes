{
 "cells": [
  {
   "cell_type": "code",
   "execution_count": 99,
   "metadata": {},
   "outputs": [],
   "source": [
    "import numpy as np\n",
    "import pickle\n",
    "import gzip\n",
    "import random\n",
    "import matplotlib.pyplot as plt"
   ]
  },
  {
   "cell_type": "markdown",
   "metadata": {},
   "source": [
    "# Convolutions"
   ]
  },
  {
   "cell_type": "code",
   "execution_count": 100,
   "metadata": {},
   "outputs": [],
   "source": [
    "\n",
    "\n",
    "class conv():\n",
    "    def __init__(self, H, W, C, N, K, R, S, stride):\n",
    "        self.H = H\n",
    "        self.W = W\n",
    "        self.C = C\n",
    "        self.N = N\n",
    "        self.P = 0\n",
    "        self.Q = 0\n",
    "        self.K = K\n",
    "        self.R = R\n",
    "        self.S = S\n",
    "        self.stride = stride"
   ]
  },
  {
   "cell_type": "code",
   "execution_count": 101,
   "metadata": {},
   "outputs": [],
   "source": [
    "# conv(hight, width, input channels, minibatch, output channels, filter height, filter width, stride)\n",
    "c = conv (32, 32, 8, 16, 64, 2, 2, 2)"
   ]
  },
  {
   "cell_type": "code",
   "execution_count": 102,
   "metadata": {},
   "outputs": [],
   "source": [
    "ifm= np.random.rand(c.H, c.W, c.C, c.N)\n",
    "filter = np.random.rand(c.R, c.S, c.C, c.K)"
   ]
  },
  {
   "cell_type": "code",
   "execution_count": 103,
   "metadata": {},
   "outputs": [
    {
     "data": {
      "text/plain": [
       "(32, 32, 8, 16)"
      ]
     },
     "execution_count": 103,
     "metadata": {},
     "output_type": "execute_result"
    }
   ],
   "source": [
    "np.shape(ifm)"
   ]
  },
  {
   "cell_type": "code",
   "execution_count": 104,
   "metadata": {},
   "outputs": [
    {
     "data": {
      "text/plain": [
       "(2, 2, 8, 64)"
      ]
     },
     "execution_count": 104,
     "metadata": {},
     "output_type": "execute_result"
    }
   ],
   "source": [
    "np.shape(filter)"
   ]
  },
  {
   "cell_type": "code",
   "execution_count": 105,
   "metadata": {},
   "outputs": [],
   "source": [
    "def fprop_conv(c, ifm, filter):\n",
    "    P = int(c.H/c.stride)\n",
    "    Q = int(c.W/c.stride)\n",
    "    ofm = np.empty([P, Q, c.K, c.N])\n",
    "    for p in range(P):\n",
    "        for q in range(Q):\n",
    "            # ifm[p*self.stride:p*self.stride + r, q*self.stride:q*self.stride + s] = CxN\n",
    "            # filter[0:r, 0:s] = CxK\n",
    "            ofm[p, q] = np.dot(filter[0:c.R, 0:c.S].reshape(c.R*c.S*c.C, c.K).T, ifm[p*c.stride:p*c.stride + c.R, q*c.stride:q*c.stride + c.S].reshape(c.R*c.S*c.C, c.N))\n",
    "    return ofm"
   ]
  },
  {
   "cell_type": "code",
   "execution_count": 106,
   "metadata": {},
   "outputs": [
    {
     "data": {
      "text/plain": [
       "(16, 16, 64, 16)"
      ]
     },
     "execution_count": 106,
     "metadata": {},
     "output_type": "execute_result"
    }
   ],
   "source": [
    "ofm = fprop_conv(c,ifm, filter)\n",
    "np.shape(ofm)"
   ]
  },
  {
   "cell_type": "markdown",
   "metadata": {},
   "source": [
    "## GEMM parallelization"
   ]
  },
  {
   "cell_type": "code",
   "execution_count": 107,
   "metadata": {},
   "outputs": [],
   "source": [
    "tpus = [x for x in range(4)]\n",
    "n = len(tpus)"
   ]
  },
  {
   "cell_type": "markdown",
   "metadata": {},
   "source": [
    "### split on K"
   ]
  },
  {
   "cell_type": "code",
   "execution_count": 108,
   "metadata": {},
   "outputs": [
    {
     "name": "stdout",
     "output_type": "stream",
     "text": [
      "(16, 16, 64, 16)\n"
     ]
    }
   ],
   "source": [
    "# conv(hight, width, input channels, minibatch, output channels, filter height, filter width, stride)\n",
    "c = conv (32, 32, 8, 16, 64, 2, 2, 2)\n",
    "ifm= np.random.rand(c.H, c.W, c.C, c.N)\n",
    "filter = np.random.rand(c.R, c.S, c.C, c.K)\n",
    "Kslice = int(c.K/n)\n",
    "cKslice = conv (32, 32, 8, 16, Kslice, 2, 2, 2)\n",
    "\n",
    "# filter = RSCxK -> (RSC)xK -> kx(RSC) -> K/n x(RSC) -> (RSC)xk/n -> RSCxK/n \n",
    "# note this is the same as np.take(filter,[0:K/n], axis = 3)\n",
    "ofm = fprop_conv(cKslice, ifm, filter.reshape([c.R*c.S*c.C,c.K]).transpose()[0:Kslice].transpose().reshape([c.R,c.S,c.C,Kslice]))\n",
    "for t in range(1,n):\n",
    "    nofm = fprop_conv(cKslice, ifm, filter.reshape([c.R*c.S*c.C,c.K]).transpose()[t*Kslice:Kslice + t*Kslice].transpose().reshape([c.R,c.S,c.C,Kslice]))\n",
    "    ofm = np.concatenate((ofm,nofm), axis=2)\n",
    "\n",
    "print(np.shape(ofm))"
   ]
  },
  {
   "cell_type": "markdown",
   "metadata": {},
   "source": [
    "### split on N"
   ]
  },
  {
   "cell_type": "code",
   "execution_count": 109,
   "metadata": {},
   "outputs": [
    {
     "name": "stdout",
     "output_type": "stream",
     "text": [
      "(16, 16, 64, 16)\n"
     ]
    }
   ],
   "source": [
    "# conv(hight, width, input channels, minibatch, output channels, filter height, filter width, stride)\n",
    "c = conv (32, 32, 8, 16, 64, 2, 2, 2)\n",
    "ifm= np.random.rand(c.H, c.W, c.C, c.N)\n",
    "filter = np.random.rand(c.R, c.S, c.C, c.K)\n",
    "Nslice = int(c.N/n)\n",
    "cNslice = conv (32, 32, 8, Nslice, 64, 2, 2, 2)\n",
    "\n",
    "# ifm = HWCxN -> (HWC)xN -> Nx(HWC) -> N/n x(HWC) -> (HWC)xN/n -> HWCxN/n \n",
    "\n",
    "ofm = fprop_conv(cNslice, ifm.reshape([c.H*c.W*c.C,c.N]).transpose()[0:Nslice].transpose().reshape([c.H,c.W,c.C,Nslice]), filter)\n",
    "for t in range(1,n):\n",
    "    nofm = fprop_conv(cNslice, ifm.reshape([c.H*c.W*c.C,c.N]).transpose()[t*Nslice:Nslice + t*Nslice].transpose().reshape([c.H,c.W,c.C,Nslice]), filter)\n",
    "    ofm = np.concatenate((ofm,nofm), axis=3)\n",
    "\n",
    "print(np.shape(ofm))"
   ]
  },
  {
   "cell_type": "markdown",
   "metadata": {},
   "source": [
    "### split on C"
   ]
  },
  {
   "cell_type": "code",
   "execution_count": 110,
   "metadata": {},
   "outputs": [
    {
     "name": "stdout",
     "output_type": "stream",
     "text": [
      "(16, 16, 64, 16)\n"
     ]
    }
   ],
   "source": [
    "# conv(hight, width, input channels, minibatch, output channels, filter height, filter width, stride)\n",
    "c = conv (32, 32, 8, 16, 64, 2, 2, 2)\n",
    "ifm= np.random.rand(c.H, c.W, c.C, c.N)\n",
    "filter = np.random.rand(c.R, c.S, c.C, c.K)\n",
    "Cslice = int(c.C/n)\n",
    "cNslice = conv (32, 32, Cslice, 16, 64, 2, 2, 2)\n",
    "\n",
    "# use np.take() this time to simplify:\n",
    "\n",
    "ofm = fprop_conv(cNslice, np.take(ifm, [x for x in range(0,Cslice)], axis=2), np.take(filter, [x for x in range(0,Cslice)], axis=2))\n",
    "for t in range(1,n):\n",
    "    ofm = np.add(ofm, fprop_conv(cNslice, np.take(ifm, [x for x in range(t*Cslice, (t+1)*Cslice)], axis=2), np.take(filter, [x for x in range(t*Cslice, (t+1)*Cslice)], axis=2)))\n",
    "\n",
    "print(np.shape(ofm))"
   ]
  },
  {
   "attachments": {},
   "cell_type": "markdown",
   "metadata": {},
   "source": [
    "# Depthwise separable convolutions"
   ]
  },
  {
   "cell_type": "code",
   "execution_count": null,
   "metadata": {},
   "outputs": [],
   "source": []
  },
  {
   "cell_type": "markdown",
   "metadata": {},
   "source": [
    "# softmax"
   ]
  },
  {
   "cell_type": "code",
   "execution_count": 111,
   "metadata": {},
   "outputs": [
    {
     "name": "stdout",
     "output_type": "stream",
     "text": [
      "(10, 16)\n"
     ]
    }
   ],
   "source": [
    "\n",
    "\n",
    "def softmax(x):\n",
    "    exps = np.exp(x)\n",
    "    sum = np.sum(exps)\n",
    "    return np.exp(x)/sum\n",
    "\n",
    "c = conv (32, 32, 8, 16, 64, 2, 2, 2)\n",
    "ofm = np.random.rand(c.H, c.W, c.C, c.N)\n",
    "\n",
    "\n",
    "# fully connected layer: reduce channels and all pixels to  L classes\n",
    "L = 10\n",
    "fc_ofm = np.empty([L,c.N])\n",
    "filter = np.random.rand(L,c.H*c.W*c.C)\n",
    "ofm = ofm.reshape([c.H*c.W*c.C, c.N])\n",
    "\n",
    "fc_ofm = np.dot(filter, ofm)\n",
    "fc_ofm = fc_ofm/2000\n",
    "\n",
    "print(np.shape(fc_ofm))\n"
   ]
  },
  {
   "cell_type": "code",
   "execution_count": 112,
   "metadata": {},
   "outputs": [
    {
     "name": "stdout",
     "output_type": "stream",
     "text": [
      "(16, 10)\n"
     ]
    }
   ],
   "source": [
    "sm = np.empty([c.N, L])\n",
    "\n",
    "for i, n in enumerate(fc_ofm.T):\n",
    "    sm[i] = np.sum(softmax(n))\n",
    "    \n",
    "print(np.shape(sm))"
   ]
  },
  {
   "cell_type": "markdown",
   "metadata": {},
   "source": [
    "# batchnorm"
   ]
  },
  {
   "cell_type": "code",
   "execution_count": 113,
   "metadata": {},
   "outputs": [
    {
     "name": "stdout",
     "output_type": "stream",
     "text": [
      "(32, 32, 8)\n"
     ]
    }
   ],
   "source": [
    "\n",
    "ofm = np.random.rand(c.H, c.W, c.C, c.N)\n",
    "mean = np.empty([c.H, c.W, c.C])\n",
    "for h in range(c.H):\n",
    "    for w in range(c.W):\n",
    "        for ch in range(c.C):\n",
    "            mean[h,w,ch] = ofm[h,w,ch].mean()\n",
    "print(np.shape(mean))"
   ]
  },
  {
   "cell_type": "code",
   "execution_count": 114,
   "metadata": {},
   "outputs": [
    {
     "name": "stdout",
     "output_type": "stream",
     "text": [
      "(32, 32, 8)\n"
     ]
    }
   ],
   "source": [
    "variance = np.empty([c.H, c.W, c.C])\n",
    "for h in range(c.H):\n",
    "    for w in range(c.W):\n",
    "        for ch in range(c.C):\n",
    "            variance[h,w,ch] = np.square(ofm[h,w,ch] - mean[h,w,ch]).mean()\n",
    "print(np.shape(variance))"
   ]
  },
  {
   "cell_type": "code",
   "execution_count": 115,
   "metadata": {},
   "outputs": [
    {
     "name": "stdout",
     "output_type": "stream",
     "text": [
      "(32, 32, 8, 16)\n"
     ]
    }
   ],
   "source": [
    "bn_ofm = np.random.rand(c.H, c.W, c.C, c.N)\n",
    "gamma = 1\n",
    "beta = 1\n",
    "epsilon = 0\n",
    "for h in range(c.H):\n",
    "    for w in range(c.W):\n",
    "        for ch in range(c.C):\n",
    "            bn_ofm[h,w,ch] = gamma*np.divide(ofm[h,w,ch] - mean[h,w,ch], np.sqrt(variance[h,w,ch]-epsilon)) + beta\n",
    "print(np.shape(bn_ofm))\n",
    "\n"
   ]
  },
  {
   "cell_type": "code",
   "execution_count": 116,
   "metadata": {},
   "outputs": [
    {
     "name": "stdout",
     "output_type": "stream",
     "text": [
      "(32, 32, 8)\n",
      "(32, 32, 8)\n"
     ]
    }
   ],
   "source": [
    "scale = np.divide(gamma, np.sqrt(variance-epsilon))\n",
    "shift = -1*mean + (beta/gamma)*np.sqrt(variance-epsilon)\n",
    "\n",
    "print(np.shape(scale))\n",
    "print(np.shape(shift))\n"
   ]
  },
  {
   "cell_type": "code",
   "execution_count": 117,
   "metadata": {},
   "outputs": [
    {
     "name": "stdout",
     "output_type": "stream",
     "text": [
      "(8192, 1)\n",
      "(8192, 1)\n",
      "(32, 32, 8, 16)\n"
     ]
    }
   ],
   "source": [
    "scale=scale.reshape([c.H*c.W*c.C,1])\n",
    "shift=shift.reshape([c.H*c.W*c.C,1])\n",
    "ofm=ofm.reshape([c.H*c.W*c.C, c.N])\n",
    "print(np.shape(scale))\n",
    "print(np.shape(shift))\n",
    "bnss_ofm = np.empty([c.H*c.W*c.C, c.N])\n",
    "np.add(ofm, shift)\n",
    "bnss_ofm=bnss_ofm.reshape([c.H,c.W,c.C, c.N])\n",
    "print(np.shape(bnss_ofm))\n"
   ]
  },
  {
   "cell_type": "code",
   "execution_count": null,
   "metadata": {},
   "outputs": [],
   "source": []
  },
  {
   "cell_type": "code",
   "execution_count": null,
   "metadata": {},
   "outputs": [],
   "source": []
  },
  {
   "cell_type": "code",
   "execution_count": null,
   "metadata": {},
   "outputs": [],
   "source": []
  }
 ],
 "metadata": {
  "kernelspec": {
   "display_name": "Python 3",
   "language": "python",
   "name": "python3"
  },
  "language_info": {
   "codemirror_mode": {
    "name": "ipython",
    "version": 3
   },
   "file_extension": ".py",
   "mimetype": "text/x-python",
   "name": "python",
   "nbconvert_exporter": "python",
   "pygments_lexer": "ipython3",
   "version": "3.6.9"
  }
 },
 "nbformat": 4,
 "nbformat_minor": 2
}
