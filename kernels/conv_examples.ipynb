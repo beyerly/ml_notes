{
 "cells": [
  {
   "cell_type": "code",
   "execution_count": 141,
   "metadata": {},
   "outputs": [],
   "source": [
    "import numpy as np\n",
    "import matplotlib.pyplot as plt\n",
    "import math\n",
    "\n",
    "\n",
    "class conv():\n",
    "    def __init__(self, H, W, C, N, P, Q, K, R, S):\n",
    "        self.H = H\n",
    "        self.W = W\n",
    "        self.C = C\n",
    "        self.N = N\n",
    "        self.P = P\n",
    "        self.Q = Q\n",
    "        self.K = K\n",
    "        self.R = R\n",
    "        self.S = S\n",
    "        self.stride = 2\n",
    "        self.ifm = np.random.rand(H, W, C, N)\n",
    "        self.filter = np.random.rand(R, S, C, K)\n",
    "        self.ofm = np.random.rand(self.P, self.Q, self.K, self.N)\n",
    "    \n",
    "    # Fprop\n",
    "    def HWCN_fprop(self):\n",
    "        self.filterT = np.transpose(self.filter.reshape([self.R*self.S*self.C,self.K]))\n",
    "        self.sfm = np.empty([self.P, self.Q, self.R, self.S, self.C, self.N])\n",
    "        # Slice IFM\n",
    "        for p in range(self.P):\n",
    "            for q in range(self.Q):\n",
    "                for r in range(self.R):\n",
    "                    for s in range(self.S):\n",
    "                        self.sfm[p,q,r,s] = self.ifm[p*self.stride+r, q*self.stride+s]\n",
    "        \n",
    "        # OFM = FilterT*SFM\n",
    "        self.ofm = np.empty([self.P, self.Q, self.K, self.N])\n",
    "        self.sfm = self.sfm.reshape([self.P, self.Q, self.R*self.S*self.C,self.N])\n",
    "        for p in range(self.P):\n",
    "            for q in range(self.Q):\n",
    "                for k in range(self.K):\n",
    "                    # dor(Kx(RSC), (RSC)xN) = KxN\n",
    "                    self.ofm[p,q] = np.dot(self.filterT, self.sfm[p,q])\n",
    "        return self.ofm\n",
    "    \n",
    "    def NHWxC_fprop(self):\n",
    "        # (HWC)xN\n",
    "        self.ifm = self.ifm.reshape(self.H*self.W*self.C,self.N)\n",
    "        # Nx(HWC)\n",
    "        self.ifm = np.transpose(self.ifm)\n",
    "        # NHWxC\n",
    "        self.ifm = self.ifm.reshape(self.N,self.H,self.W,self.C)\n",
    "\n",
    "        self.sfm = np.empty([self.N, self.R, self.S, self.P, self.Q, self.C])\n",
    "        \n",
    "        # Slice IFM\n",
    "        for n in range(self.N):\n",
    "            for r in range(self.R):\n",
    "                for s in range(self.S):\n",
    "                    for p in range(self.P):\n",
    "                        for q in range(self.Q):\n",
    "                            self.sfm[n,r,s,p,q] = self.ifm[n,p*self.stride+r, q*self.stride+s]\n",
    "        \n",
    "        # OFM = SFM*Filter\n",
    "        self.ofm = np.zeros([self.N, self.P, self.Q, self.K])\n",
    "        for n in range(self.N):\n",
    "            for r in range(self.R):\n",
    "                for s in range(self.S):\n",
    "                    self.ofm[n] += np.dot(self.sfm[n,r,s], self.filter[r,s])\n",
    "        return  self.ofm\n",
    "\n",
    "    def NHWxC_partial_fprop(self):\n",
    "        # (HWC)xN\n",
    "        self.ifm = self.ifm.reshape(self.H*self.W*self.C,self.N)\n",
    "        # Nx(HWC)\n",
    "        self.ifm = np.transpose(self.ifm)\n",
    "        # NHWxC\n",
    "        self.ifm = self.ifm.reshape(self.N,self.H,self.W,self.C)\n",
    "\n",
    "        \n",
    "        S0 = self.stride\n",
    "        S1 = self.S - S0 + 1\n",
    "        \n",
    "        self.filter = self.filter.reshape([self.R, S1, S0*self.C,self.K])\n",
    "        self.sfm = np.empty([self.N, self.R, S1, self.P, self.Q, S0, self.C])\n",
    "        \n",
    "        # Slice IFM\n",
    "        for n in range(self.N):\n",
    "            for r in range(self.R):\n",
    "                for s1 in range(S1):\n",
    "                    for p in range(self.P):\n",
    "                        for q in range(self.Q):\n",
    "                            for s0 in range(S0): \n",
    "                                self.sfm[n,r,s1,p,q, s0] = self.ifm[n,p*self.stride+r, q*self.stride+s1+s0]\n",
    "        self.sfm = self.sfm.reshape([self.N, self.R, S1, self.P, self.Q, S0*self.C])\n",
    "        \n",
    "        # OFM = SFM*Filter\n",
    "        self.ofm = np.zeros([self.N, self.P, self.Q, self.K])\n",
    "        for n in range(self.N):\n",
    "            for r in range(self.R):\n",
    "                for s in range(S1):\n",
    "                    self.ofm[n] += np.dot(self.sfm[n,r,s], self.filter[r,s])\n",
    "        return  self.ofm\n",
    "\n",
    "    \n",
    "    \n",
    "    # Update\n",
    "    def HWCN_update(self):\n",
    "        self.sfm = np.empty([self.P, self.Q, self.R, self.S, self.C, self.N])\n",
    "        # Slice IFM\n",
    "        for p in range(self.P):\n",
    "            for q in range(self.Q):\n",
    "                for r in range(self.R):\n",
    "                    for s in range(self.S):\n",
    "                        self.sfm[p,q,r,s] = self.ifm[p*self.stride+r, q*self.stride+s]\n",
    "        \n",
    "        # Filter = *SFM\n",
    "        self.filter = np.zeros([self.R, self.S, self.C, self.K])        \n",
    "        for r in range(self.R):\n",
    "            for s in range(self.S):\n",
    "                for p in range(self.P):\n",
    "                    for q in range(self.Q):\n",
    "                        self.filter[r,s] += np.dot(self.sfm[p,q,r,s], np.transpose(self.ofm[p,q]))\n",
    "        return self.filter\n",
    "\n",
    "    \n",
    "    def NHWxC_update(self):\n",
    "        # IFM = HWCxN reshape-> (HWC)xN -transpose-> Nx(HWC) -respahe-> NHWxC\n",
    "        self.ifm = self.ifm.reshape(self.H*self.W*self.C,self.N)\n",
    "        self.ifm = np.transpose(self.ifm)\n",
    "        self.ifm = self.ifm.reshape(self.N,self.H,self.W,self.C)\n",
    "\n",
    "        self.sfm = np.empty([self.N, self.R, self.S, self.P, self.Q, self.C])        \n",
    "        # Slice IFM NRSPQxC\n",
    "        for n in range(self.N):\n",
    "            for r in range(self.R):\n",
    "                for s in range(self.S):\n",
    "                    for p in range(self.P):\n",
    "                        for q in range(self.Q):\n",
    "                            self.sfm[n,r,s,p,q] = self.ifm[n,p*self.stride+r, q*self.stride+s]\n",
    "        \n",
    "        # OFM = PQKxN -reshape-> (PQK)xN -transpose-> Nx(PQK) -reshape-> N(PQ)xK\n",
    "        self.ofm = self.ofm.reshape(self.P*self.Q*self.K,self.N)\n",
    "        self.ofm = np.transpose(self.ofm)\n",
    "        self.ofm = self.ofm.reshape(self.N,self.P*self.Q,self.K)\n",
    "        \n",
    "        # Filter = *SFM\n",
    "        self.filter = np.zeros([self.R, self.S, self.C, self.K])        \n",
    "        for r in range(self.R):\n",
    "            for s in range(self.S):\n",
    "                for n in range(self.N):\n",
    "                        # SFM[n,r,s] = PQxC -reshape-> (PQ)xC -transpose-> Cx(PQ) \n",
    "                        # OFM[n] = (PQ)xK\n",
    "                        # dot(Cx(PQ), (PQ)xK) = CxK\n",
    "                        self.filter[r,s] += np.dot(np.transpose(self.sfm[n,r,s].reshape(self.P*self.Q, self.C)), self.ofm[n])\n",
    "        # filter = RSCxK\n",
    "        return self.filter    "
   ]
  },
  {
   "cell_type": "code",
   "execution_count": 142,
   "metadata": {},
   "outputs": [],
   "source": [
    "# Fprops\n",
    "cfg = conv(16, 16, 128, 32, 8, 8, 64, 2, 2)"
   ]
  },
  {
   "cell_type": "code",
   "execution_count": 143,
   "metadata": {},
   "outputs": [
    {
     "name": "stdout",
     "output_type": "stream",
     "text": [
      "IFM shape HWCxN: (16, 16, 128, 32)\n",
      "Filter shape RSCxK: (2, 2, 128, 64)\n",
      "SFM shape PQRSCxN: (8, 8, 512, 32)\n",
      "OFM shape PQKxN: (8, 8, 64, 32)\n"
     ]
    }
   ],
   "source": [
    "hwcn_fprop = cfg.HWCN_fprop()\n",
    "\n",
    "print(\"IFM shape HWCxN:\", cfg.ifm.shape)\n",
    "print(\"Filter shape RSCxK:\", cfg.filter.shape)\n",
    "print(\"SFM shape PQRSCxN:\", cfg.sfm.shape)\n",
    "print(\"OFM shape PQKxN:\", cfg.ofm.shape)\n"
   ]
  },
  {
   "cell_type": "code",
   "execution_count": 144,
   "metadata": {},
   "outputs": [
    {
     "name": "stdout",
     "output_type": "stream",
     "text": [
      "IFM shape NHWxC: (32, 16, 16, 128)\n",
      "Filter shape RSCxK: (2, 2, 128, 64)\n",
      "SFM shape NRSPQxC: (32, 2, 2, 8, 8, 128)\n",
      "OFM shape NPQxK: (32, 8, 8, 64)\n"
     ]
    }
   ],
   "source": [
    "\n",
    "nhwc_fprop = cfg.NHWxC_fprop()\n",
    "\n",
    "print(\"IFM shape NHWxC:\", cfg.ifm.shape)\n",
    "print(\"Filter shape RSCxK:\", cfg.filter.shape)\n",
    "print(\"SFM shape NRSPQxC:\", cfg.sfm.shape)\n",
    "print(\"OFM shape NPQxK:\", cfg.ofm.shape)\n"
   ]
  },
  {
   "cell_type": "code",
   "execution_count": 145,
   "metadata": {},
   "outputs": [
    {
     "data": {
      "text/plain": [
       "True"
      ]
     },
     "execution_count": 145,
     "metadata": {},
     "output_type": "execute_result"
    }
   ],
   "source": [
    "# Convert OFM of NHWxC fprop from NPQxK to PQKxN \n",
    "nhwc_fprop = np.transpose(nhwc_fprop.reshape(cfg.N, cfg.P*cfg.Q*cfg.K)).reshape(cfg.P, cfg.Q, cfg.K ,cfg.N)\n",
    "np.allclose(nhwc_fprop, hwcn_fprop)"
   ]
  },
  {
   "cell_type": "code",
   "execution_count": 146,
   "metadata": {},
   "outputs": [
    {
     "name": "stdout",
     "output_type": "stream",
     "text": [
      "IFM shape NHWxC: (32, 16, 16, 128)\n",
      "Filter shape RSCxK: (2, 1, 256, 64)\n",
      "SFM shape NRSPQxC: (32, 2, 1, 8, 8, 256)\n",
      "OFM shape NPQxK: (32, 8, 8, 64)\n"
     ]
    }
   ],
   "source": [
    "# partial NHWxC, improving slice efficiency\n",
    "\n",
    "cfg = conv(16, 16, 128, 32, 8, 8, 64, 2, 2)\n",
    "hwcn_fprop = cfg.HWCN_fprop()\n",
    "#nhwc_fprop = cfg.NHWxC_fprop()\n",
    "nhwc_partial_fprop = cfg.NHWxC_partial_fprop()\n",
    "\n",
    "print(\"IFM shape NHWxC:\", cfg.ifm.shape)\n",
    "print(\"Filter shape RSCxK:\", cfg.filter.shape)\n",
    "print(\"SFM shape NRSPQxC:\", cfg.sfm.shape)\n",
    "print(\"OFM shape NPQxK:\", cfg.ofm.shape)"
   ]
  },
  {
   "cell_type": "code",
   "execution_count": 147,
   "metadata": {},
   "outputs": [
    {
     "data": {
      "text/plain": [
       "True"
      ]
     },
     "execution_count": 147,
     "metadata": {},
     "output_type": "execute_result"
    }
   ],
   "source": [
    "nhwc_partial_fprop = np.transpose(nhwc_partial_fprop.reshape(cfg.N, cfg.P*cfg.Q*cfg.K)).reshape(cfg.P, cfg.Q, cfg.K ,cfg.N)\n",
    "np.allclose(nhwc_partial_fprop, hwcn_fprop)"
   ]
  },
  {
   "cell_type": "code",
   "execution_count": 148,
   "metadata": {},
   "outputs": [],
   "source": [
    "# Updates\n",
    "cfg = conv(16, 16, 128, 32, 8, 8, 64, 2, 2)"
   ]
  },
  {
   "cell_type": "code",
   "execution_count": 149,
   "metadata": {},
   "outputs": [
    {
     "name": "stdout",
     "output_type": "stream",
     "text": [
      "IFM shape HWCxN: (16, 16, 128, 32)\n",
      "SFM shape PQRSCxN: (8, 8, 2, 2, 128, 32)\n",
      "OFM shape PQKxN: (8, 8, 64, 32)\n",
      "Filter shape RSCxK: (2, 2, 128, 64)\n"
     ]
    }
   ],
   "source": [
    "hwcn_update = cfg.HWCN_update()\n",
    "\n",
    "print(\"IFM shape HWCxN:\", cfg.ifm.shape)\n",
    "print(\"SFM shape PQRSCxN:\", cfg.sfm.shape)\n",
    "print(\"OFM shape PQKxN:\", cfg.ofm.shape)\n",
    "print(\"Filter shape RSCxK:\", cfg.filter.shape)"
   ]
  },
  {
   "cell_type": "code",
   "execution_count": 150,
   "metadata": {},
   "outputs": [
    {
     "name": "stdout",
     "output_type": "stream",
     "text": [
      "IFM shape NHWxC: (32, 16, 16, 128)\n",
      "SFM shape NRSPQxC: (32, 2, 2, 8, 8, 128)\n",
      "OFM shape NPQxK: (32, 64, 64)\n",
      "Filter shape RSCxK: (2, 2, 128, 64)\n"
     ]
    }
   ],
   "source": [
    "nhwc_update = cfg.NHWxC_update()\n",
    "\n",
    "print(\"IFM shape NHWxC:\", cfg.ifm.shape)\n",
    "print(\"SFM shape NRSPQxC:\", cfg.sfm.shape)\n",
    "print(\"OFM shape NPQxK:\", cfg.ofm.shape)\n",
    "print(\"Filter shape RSCxK:\", cfg.filter.shape)\n"
   ]
  },
  {
   "cell_type": "code",
   "execution_count": 151,
   "metadata": {},
   "outputs": [
    {
     "data": {
      "text/plain": [
       "True"
      ]
     },
     "execution_count": 151,
     "metadata": {},
     "output_type": "execute_result"
    }
   ],
   "source": [
    "np.allclose(nhwc_update, hwcn_update)"
   ]
  }
 ],
 "metadata": {
  "kernelspec": {
   "display_name": "Python 3",
   "language": "python",
   "name": "python3"
  },
  "language_info": {
   "codemirror_mode": {
    "name": "ipython",
    "version": 3
   },
   "file_extension": ".py",
   "mimetype": "text/x-python",
   "name": "python",
   "nbconvert_exporter": "python",
   "pygments_lexer": "ipython3",
   "version": "3.6.9"
  }
 },
 "nbformat": 4,
 "nbformat_minor": 2
}
