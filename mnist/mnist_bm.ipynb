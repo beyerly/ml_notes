{
 "cells": [
  {
   "cell_type": "code",
   "execution_count": 1,
   "metadata": {},
   "outputs": [],
   "source": [
    "import numpy as np\n",
    "import pickle\n",
    "import gzip\n",
    "import random\n",
    "import matplotlib.pyplot as plt\n",
    "\n",
    "\n",
    "\n",
    "def relu(x):\n",
    "    return np.maximum(x, 0)\n",
    "\n",
    "def relu_prime(drelu, dx):\n",
    "    drelu[dx < 0] = 0\n",
    "    return drelu\n",
    "\n",
    "def sigmoid(z):\n",
    "    \"\"\"The sigmoid function.\"\"\"\n",
    "    return 1.0/(1.0+np.exp(-z))\n",
    "\n",
    "def sigmoid_prime(z):\n",
    "    \"\"\"Derivative of the sigmoid function.\"\"\"\n",
    "    return sigmoid(z)*(1-sigmoid(z))\n",
    "\n",
    "\n",
    "def load_data():\n",
    "    f = gzip.open('./data/mnist.pkl.gz', 'rb')\n",
    "    training_data, validation_data, test_data = pickle.load(f, encoding='latin1')\n",
    "    f.close()\n",
    "    return (training_data, validation_data, test_data)\n",
    "\n",
    "def vectorized_result(j):\n",
    "    \"\"\"Return a 10-dimensional unit vector with a 1.0 in the jth\n",
    "    position and zeroes elsewhere.  This is used to convert a digit\n",
    "    (0...9) into a corresponding desired output from the neural\n",
    "    network.\"\"\"\n",
    "    e = np.zeros([10])\n",
    "    e[j] = 1.0\n",
    "    return e\n",
    "\n",
    "def format_data(data):\n",
    "    td = []\n",
    "    for t in range(len(data[0])):\n",
    "        td.append([np.reshape(data[0][t], (1,784)),np.reshape(vectorized_result(data[1][t]), (1,10))])\n",
    "    return td\n",
    "\n",
    "class network():\n",
    "    def __init__(self, width, sizes, epochs):\n",
    "        self.width = width\n",
    "        self.sizes = sizes\n",
    "        self.learning_rate = 3\n",
    "        self.weights = []\n",
    "        self.biases = []\n",
    "        self.gradients = []\n",
    "        self.minibatch_size = 10\n",
    "        self.epochs = epochs\n",
    "        for size in sizes:\n",
    "            self.weights.append(np.random.randn(width, size))\n",
    "            self.gradients.append(np.zeros([width, size]))\n",
    "            width = size\n",
    "        self.zs = []\n",
    "        self.activations = []\n",
    "                \n",
    "\n",
    "\n",
    "    def fprop(self, x):\n",
    "        z = x\n",
    "        self.activations = []\n",
    "        self.zs = []\n",
    "        for layer in range(len(self.weights)):\n",
    "            self.activations.append(z)\n",
    "            z = z.dot(self.weights[layer])\n",
    "            self.zs.append(z)\n",
    "            z = sigmoid(z)\n",
    "        self.activations.append(z)\n",
    "        return z\n",
    "\n",
    "    def bprop(self, y):\n",
    "        delta_gradients = []\n",
    "        grad = 2.0 * (self.activations[-1] - y)\n",
    "        cost = 1000*np.sum(np.square((self.activations[-1] - y)))\n",
    "        for layer in range(1, 1+len(self.weights)):\n",
    "            delta = grad*sigmoid_prime(self.zs[-layer])\n",
    "            grad_w = self.activations[-layer-1].T.dot(delta)\n",
    "            delta_gradients.append(grad_w)\n",
    "            grad = delta.dot(self.weights[-layer].T)\n",
    "        delta_gradients.reverse()\n",
    "        self.gradients = [nb+dnb for nb, dnb in zip(self.gradients, delta_gradients)]\n",
    "        return cost\n",
    "\n",
    "\n",
    "    def update(self):\n",
    "        for layer in range(len(self.weights)):\n",
    "            self.weights[layer] -= self.learning_rate*self.gradients[layer]/self.minibatch_size\n",
    "        width = self.width\n",
    "        self.gradients = []\n",
    "        for size in self.sizes:\n",
    "            self.gradients.append(np.zeros([width, size]))\n",
    "            width = size\n",
    "\n",
    "    def evaluate(self, test_data):\n",
    "        passed = 0\n",
    "        for test in range(len(test_data[0])):\n",
    "            class_pred = n.fprop(np.reshape(test_data[0][test], (1,784)))\n",
    "            if (class_pred.argmax() == test_data[1][test]):\n",
    "                passed+=1\n",
    "        print ('eval: ', passed, '/', len(test_data[0]), '=', passed/len(test_data[0]))\n",
    "        "
   ]
  },
  {
   "cell_type": "code",
   "execution_count": 2,
   "metadata": {
    "scrolled": true
   },
   "outputs": [
    {
     "name": "stdout",
     "output_type": "stream",
     "text": [
      "eval:  9154 / 10000 = 0.9154\n",
      "epoch  0 :  None 249.33042638659674\n",
      "eval:  9144 / 10000 = 0.9144\n",
      "epoch  1 :  None 138.52927865624335\n",
      "eval:  9323 / 10000 = 0.9323\n",
      "epoch  2 :  None 119.18864673312935\n",
      "eval:  9304 / 10000 = 0.9304\n",
      "epoch  3 :  None 110.29881133184107\n",
      "eval:  9400 / 10000 = 0.94\n",
      "epoch  4 :  None 103.7324469782727\n"
     ]
    }
   ],
   "source": [
    "image_size = 784\n",
    "class_size = 10\n",
    "training_data, validation_data, test_data = load_data()\n",
    "td = format_data(training_data)\n",
    "n = network(image_size, [40,30,class_size], 5)\n",
    "bookmark = 0\n",
    "losses = []\n",
    "cost = []\n",
    "batchcost = []\n",
    "\n",
    "for epoch in range(n.epochs):\n",
    "    random.shuffle(td)\n",
    "    batchcost = []\n",
    "    for minibatch in range(int(len(td)/n.minibatch_size)):\n",
    "        cost = []\n",
    "        for t in range(n.minibatch_size):\n",
    "            class_pred = n.fprop(td[bookmark + t][0])\n",
    "            class_actual = td[bookmark + t][1]\n",
    "            cost.append(n.bprop(class_actual))\n",
    "        n.update()\n",
    "        batchcost.append(np.mean(cost))\n",
    "        #print (bookmark, '/', len(td), np.mean(cost))\n",
    "        bookmark += n.minibatch_size\n",
    "    print(\"epoch \", epoch, \": \", n.evaluate(test_data), np.mean(batchcost))\n",
    "    losses.append(np.mean(batchcost))\n",
    "    bookmark = 0"
   ]
  },
  {
   "cell_type": "code",
   "execution_count": 6,
   "metadata": {},
   "outputs": [
    {
     "name": "stderr",
     "output_type": "stream",
     "text": [
      "No handles with labels found to put in legend.\n"
     ]
    },
    {
     "data": {
      "image/png": "[encoded data removed]",
      "text/plain": [
       "<Figure size 432x288 with 1 Axes>"
      ]
     },
     "metadata": {
      "needs_background": "light"
     },
     "output_type": "display_data"
    }
   ],
   "source": [
    "\n",
    "ax = plt.subplot(111)   \n",
    "    \n",
    "plt.plot(losses)\n",
    "    \n",
    "\n",
    "plt.title('Simple MNIST bare metal')\n",
    "plt.ylabel('loss')\n",
    "plt.xlabel('epoch')\n",
    "plt.legend()\n",
    "plt.show()"
   ]
  }
 ],
 "metadata": {
  "kernelspec": {
   "display_name": "Python 3",
   "language": "python",
   "name": "python3"
  },
  "language_info": {
   "codemirror_mode": {
    "name": "ipython",
    "version": 3
   },
   "file_extension": ".py",
   "mimetype": "text/x-python",
   "name": "python",
   "nbconvert_exporter": "python",
   "pygments_lexer": "ipython3",
   "version": "3.6.9"
  }
 },
 "nbformat": 4,
 "nbformat_minor": 2
}
