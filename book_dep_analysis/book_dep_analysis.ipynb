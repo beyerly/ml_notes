{
 "cells": [
  {
   "cell_type": "code",
   "execution_count": 103,
   "metadata": {},
   "outputs": [],
   "source": [
    "import numpy as np\n",
    "import pandas as pd\n",
    "import re\n",
    "\n",
    "# Book genre analysis, based on https://www.kaggle.com/sp1thas/book-depository-dataset/data \n",
    "# WIP \n"
   ]
  },
  {
   "cell_type": "code",
   "execution_count": null,
   "metadata": {},
   "outputs": [],
   "source": [
    "ds = pd.read_csv('dataset/dataset.csv', usecols=['authors', 'bestsellers-rank', 'categories', 'description', 'for-ages', 'id', 'lang', 'rating-avg', 'rating-count', 'title'])\n"
   ]
  },
  {
   "cell_type": "code",
   "execution_count": 65,
   "metadata": {},
   "outputs": [],
   "source": [
    "cat = pd.read_csv('dataset/categories.csv')"
   ]
  },
  {
   "cell_type": "code",
   "execution_count": 66,
   "metadata": {},
   "outputs": [
    {
     "data": {
      "text/html": [
       "<div>\n",
       "<style scoped>\n",
       "    .dataframe tbody tr th:only-of-type {\n",
       "        vertical-align: middle;\n",
       "    }\n",
       "\n",
       "    .dataframe tbody tr th {\n",
       "        vertical-align: top;\n",
       "    }\n",
       "\n",
       "    .dataframe thead th {\n",
       "        text-align: right;\n",
       "    }\n",
       "</style>\n",
       "<table border=\"1\" class=\"dataframe\">\n",
       "  <thead>\n",
       "    <tr style=\"text-align: right;\">\n",
       "      <th></th>\n",
       "      <th>category_id</th>\n",
       "      <th>category_name</th>\n",
       "    </tr>\n",
       "  </thead>\n",
       "  <tbody>\n",
       "    <tr>\n",
       "      <th>0</th>\n",
       "      <td>1998</td>\n",
       "      <td>.Net Programming</td>\n",
       "    </tr>\n",
       "    <tr>\n",
       "      <th>1</th>\n",
       "      <td>176</td>\n",
       "      <td>20th Century &amp; Contemporary Classical Music</td>\n",
       "    </tr>\n",
       "    <tr>\n",
       "      <th>2</th>\n",
       "      <td>3291</td>\n",
       "      <td>20th Century &amp; Contemporary Classical Music</td>\n",
       "    </tr>\n",
       "    <tr>\n",
       "      <th>3</th>\n",
       "      <td>2659</td>\n",
       "      <td>20th Century History: C 1900  To C 2000</td>\n",
       "    </tr>\n",
       "    <tr>\n",
       "      <th>4</th>\n",
       "      <td>2661</td>\n",
       "      <td>21st Century History: From C 2000 -</td>\n",
       "    </tr>\n",
       "  </tbody>\n",
       "</table>\n",
       "</div>"
      ],
      "text/plain": [
       "   category_id                                category_name\n",
       "0         1998                             .Net Programming\n",
       "1          176  20th Century & Contemporary Classical Music\n",
       "2         3291  20th Century & Contemporary Classical Music\n",
       "3         2659      20th Century History: C 1900  To C 2000\n",
       "4         2661          21st Century History: From C 2000 -"
      ]
     },
     "execution_count": 66,
     "metadata": {},
     "output_type": "execute_result"
    }
   ],
   "source": [
    "ds.head(5)\n",
    "cat.head(5)"
   ]
  },
  {
   "cell_type": "code",
   "execution_count": 205,
   "metadata": {},
   "outputs": [],
   "source": [
    "\n",
    "\n",
    "\n",
    "def findBook(title, df):\n",
    "    resDf = pd.DataFrame()\n",
    "    for idx, i in df['title'].str.contains(title, case=False).iteritems():\n",
    "        if i:\n",
    "            genres = \"\"\n",
    "            res = df['categories'][idx].strip('][').split(', ') \n",
    "            for c in res:\n",
    "                genres += cat.loc[cat['category_id']==int(c)]['category_name'].values[0] + \", \"\n",
    "            resDf = resDf.append(pd.DataFrame([[df['title'][idx], genres]], columns=['title', 'genre']), ignore_index=True)\n",
    "    return resDf"
   ]
  },
  {
   "cell_type": "code",
   "execution_count": 208,
   "metadata": {},
   "outputs": [
    {
     "data": {
      "text/html": [
       "<div>\n",
       "<style scoped>\n",
       "    .dataframe tbody tr th:only-of-type {\n",
       "        vertical-align: middle;\n",
       "    }\n",
       "\n",
       "    .dataframe tbody tr th {\n",
       "        vertical-align: top;\n",
       "    }\n",
       "\n",
       "    .dataframe thead th {\n",
       "        text-align: right;\n",
       "    }\n",
       "</style>\n",
       "<table border=\"1\" class=\"dataframe\">\n",
       "  <thead>\n",
       "    <tr style=\"text-align: right;\">\n",
       "      <th></th>\n",
       "      <th>title</th>\n",
       "      <th>genre</th>\n",
       "    </tr>\n",
       "  </thead>\n",
       "  <tbody>\n",
       "    <tr>\n",
       "      <th>0</th>\n",
       "      <td>Star Wars: The Rise of Skywalker: The Galaxy N...</td>\n",
       "      <td>Children's Fiction, Children's General Story B...</td>\n",
       "    </tr>\n",
       "    <tr>\n",
       "      <th>1</th>\n",
       "      <td>Samsung Galaxy A80 User Manual : A Comprehensi...</td>\n",
       "      <td>Digital Photography: Consumer/user Guides, Pho...</td>\n",
       "    </tr>\n",
       "    <tr>\n",
       "      <th>2</th>\n",
       "      <td>The Vegan Soulfood Guide to the Galaxy : Your ...</td>\n",
       "      <td>Vegetarian Cookery, National &amp; Regional Cuisine,</td>\n",
       "    </tr>\n",
       "    <tr>\n",
       "      <th>3</th>\n",
       "      <td>Nasty Galaxy</td>\n",
       "      <td>Fashion &amp; Textiles: Design, Memoirs, Microecon...</td>\n",
       "    </tr>\n",
       "    <tr>\n",
       "      <th>4</th>\n",
       "      <td>Composition Notebook : Wide Ruled Space Galaxy...</td>\n",
       "      <td>Graphic Novels, Anime &amp; Manga, Graphic Novels,...</td>\n",
       "    </tr>\n",
       "    <tr>\n",
       "      <th>...</th>\n",
       "      <td>...</td>\n",
       "      <td>...</td>\n",
       "    </tr>\n",
       "    <tr>\n",
       "      <th>95</th>\n",
       "      <td>Drax Vol. 1: The Galaxy's Best Detective</td>\n",
       "      <td>Graphic Novels: Superheroes, Graphic Novels: S...</td>\n",
       "    </tr>\n",
       "    <tr>\n",
       "      <th>96</th>\n",
       "      <td>Guardians Of The Galaxy &amp; X-men: The Black Vortex</td>\n",
       "      <td>Graphic Novels: Superheroes, Graphic Novels: S...</td>\n",
       "    </tr>\n",
       "    <tr>\n",
       "      <th>97</th>\n",
       "      <td>All-new Guardians Of The Galaxy Vol. 2 : Rider...</td>\n",
       "      <td>Graphic Novels: Superheroes, Graphic Novels: S...</td>\n",
       "    </tr>\n",
       "    <tr>\n",
       "      <th>98</th>\n",
       "      <td>Guardians Of The Galaxy By Jim Valentino Volume 3</td>\n",
       "      <td>Graphic Novels: Superheroes, Graphic Novels: S...</td>\n",
       "    </tr>\n",
       "    <tr>\n",
       "      <th>99</th>\n",
       "      <td>Marvel Super Heroes Coloring Book : Super hero...</td>\n",
       "      <td>Graphic Novels: Superheroes, Graphic Novels: S...</td>\n",
       "    </tr>\n",
       "  </tbody>\n",
       "</table>\n",
       "<p>100 rows × 2 columns</p>\n",
       "</div>"
      ],
      "text/plain": [
       "                                                title  \\\n",
       "0   Star Wars: The Rise of Skywalker: The Galaxy N...   \n",
       "1   Samsung Galaxy A80 User Manual : A Comprehensi...   \n",
       "2   The Vegan Soulfood Guide to the Galaxy : Your ...   \n",
       "3                                        Nasty Galaxy   \n",
       "4   Composition Notebook : Wide Ruled Space Galaxy...   \n",
       "..                                                ...   \n",
       "95           Drax Vol. 1: The Galaxy's Best Detective   \n",
       "96  Guardians Of The Galaxy & X-men: The Black Vortex   \n",
       "97  All-new Guardians Of The Galaxy Vol. 2 : Rider...   \n",
       "98  Guardians Of The Galaxy By Jim Valentino Volume 3   \n",
       "99  Marvel Super Heroes Coloring Book : Super hero...   \n",
       "\n",
       "                                                genre  \n",
       "0   Children's Fiction, Children's General Story B...  \n",
       "1   Digital Photography: Consumer/user Guides, Pho...  \n",
       "2   Vegetarian Cookery, National & Regional Cuisine,   \n",
       "3   Fashion & Textiles: Design, Memoirs, Microecon...  \n",
       "4   Graphic Novels, Anime & Manga, Graphic Novels,...  \n",
       "..                                                ...  \n",
       "95  Graphic Novels: Superheroes, Graphic Novels: S...  \n",
       "96  Graphic Novels: Superheroes, Graphic Novels: S...  \n",
       "97  Graphic Novels: Superheroes, Graphic Novels: S...  \n",
       "98  Graphic Novels: Superheroes, Graphic Novels: S...  \n",
       "99  Graphic Novels: Superheroes, Graphic Novels: S...  \n",
       "\n",
       "[100 rows x 2 columns]"
      ]
     },
     "execution_count": 208,
     "metadata": {},
     "output_type": "execute_result"
    }
   ],
   "source": [
    "q = findBook('galaxy', ds)\n",
    "q.head(100)"
   ]
  },
  {
   "cell_type": "code",
   "execution_count": 213,
   "metadata": {},
   "outputs": [
    {
     "name": "stdout",
     "output_type": "stream",
     "text": [
      "0\n",
      "1\n",
      "2\n",
      "3\n",
      "4\n",
      "5\n",
      "6\n",
      "7\n",
      "8\n",
      "9\n",
      "10\n",
      "11\n",
      "12\n",
      "13\n",
      "14\n",
      "15\n",
      "16\n",
      "17\n",
      "18\n",
      "19\n"
     ]
    }
   ],
   "source": [
    "for i in range(20):\n",
    "    print(hash(i))\n",
    "    \n",
    "    \n"
   ]
  }
 ],
 "metadata": {
  "kernelspec": {
   "display_name": "Python 3",
   "language": "python",
   "name": "python3"
  },
  "language_info": {
   "codemirror_mode": {
    "name": "ipython",
    "version": 3
   },
   "file_extension": ".py",
   "mimetype": "text/x-python",
   "name": "python",
   "nbconvert_exporter": "python",
   "pygments_lexer": "ipython3",
   "version": "3.6.9"
  }
 },
 "nbformat": 4,
 "nbformat_minor": 2
}
